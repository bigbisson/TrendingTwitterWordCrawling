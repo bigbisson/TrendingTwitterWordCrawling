{
 "cells": [
  {
   "cell_type": "code",
   "execution_count": 1,
   "metadata": {},
   "outputs": [],
   "source": [
    "import tweepy\n",
    "import keys\n",
    "import os\n",
    "from datetime import datetime, timedelta\n",
    "import time\n",
    "import argparse\n",
    "import string\n",
    "import json"
   ]
  },
  {
   "cell_type": "code",
   "execution_count": 2,
   "metadata": {},
   "outputs": [],
   "source": [
    "client = tweepy.Client(bearer_token=keys.BEARER_TOKEN)"
   ]
  },
  {
   "cell_type": "code",
   "execution_count": 26,
   "metadata": {},
   "outputs": [],
   "source": [
    "query = 'sakit tenggorokan -RT -is:retweet -is:quote'"
   ]
  },
  {
   "cell_type": "code",
   "execution_count": 45,
   "metadata": {},
   "outputs": [
    {
     "name": "stdout",
     "output_type": "stream",
     "text": [
      "2021-12-23 02:09:49.991006\n",
      "2021-12-24 02:09:49.991006\n",
      "2021-12-25 02:09:49.991006\n",
      "2021-12-26 02:09:49.991006\n",
      "2021-12-27 02:09:49.991006\n",
      "2021-12-28 02:09:49.991006\n",
      "2021-12-29 02:09:49.991006\n"
     ]
    }
   ],
   "source": [
    "now = datetime.now()\n",
    "weeksago = now - timedelta(days=7)\n",
    "\n",
    "while int(weeksago.strftime(\"%d\")) < int(now.strftime(\"%d\")):\n",
    "    print(weeksago)\n",
    "    endday = weeksago + timedelta(days=1)\n",
    "    startday = weeksago\n",
    "    if int(weeksago.strftime(\"%d\")) == int(now.strftime(\"%d\")) - 1:\n",
    "        endday = weeksago + timedelta(hours=16, minutes=59, seconds=40)\n",
    "    os.makedirs(os.path.dirname(\"data/\"), exist_ok=True)\n",
    "    with open(\"data/tweet_\" + weeksago.strftime(\"%Y-%m-%d\") + \".json\", \"w\", encoding=\"utf-8\") as f:\n",
    "        for tweet in tweepy.Paginator(client.search_recent_tweets,  query=query, end_time=endday, max_results=100, start_time=startday).flatten(limit=2000):\n",
    "            f.write('%s\\n' % tweet.data)\n",
    "    weeksago = weeksago + timedelta(days=1)"
   ]
  }
 ],
 "metadata": {
  "interpreter": {
   "hash": "c4c044037379cb75a965bf66823de67287d0f7c675aee8254970266da95a7bad"
  },
  "kernelspec": {
   "display_name": "Python 3.10.0 64-bit ('env': venv)",
   "language": "python",
   "name": "python3"
  },
  "language_info": {
   "codemirror_mode": {
    "name": "ipython",
    "version": 3
   },
   "file_extension": ".py",
   "mimetype": "text/x-python",
   "name": "python",
   "nbconvert_exporter": "python",
   "pygments_lexer": "ipython3",
   "version": "3.10.0"
  },
  "orig_nbformat": 4
 },
 "nbformat": 4,
 "nbformat_minor": 2
}
